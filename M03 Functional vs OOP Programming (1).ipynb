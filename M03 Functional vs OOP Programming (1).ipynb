{
 "cells": [
  {
   "cell_type": "code",
   "execution_count": 9,
   "id": "1a582bb3",
   "metadata": {},
   "outputs": [
    {
     "name": "stdout",
     "output_type": "stream",
     "text": [
      "0 0 1 2 2 "
     ]
    }
   ],
   "source": [
    "def segregate_012(arr):\n",
    "    low, mid, high = 0, 0, len(arr) - 1\n",
    "    \n",
    "    while mid <= high:\n",
    "        if arr[mid] == 0:\n",
    "            arr[low], arr[mid] = arr[mid], arr[low]\n",
    "            low += 1\n",
    "            mid += 1\n",
    "        elif arr[mid] == 1:\n",
    "            mid += 1\n",
    "        else:\n",
    "            arr[mid], arr[high] = arr[high], arr[mid]\n",
    "            high -= 1\n",
    "            \n",
    "N = 5\n",
    "arr = [0, 0, 1, 2, 2]\n",
    "\n",
    "\n",
    "for num in arr:\n",
    "    print (num, end=' ')\n",
    "                                            "
   ]
  },
  {
   "cell_type": "code",
   "execution_count": 10,
   "id": "95fce368",
   "metadata": {},
   "outputs": [
    {
     "name": "stdout",
     "output_type": "stream",
     "text": [
      "0 0 1 "
     ]
    }
   ],
   "source": [
    "def segregate_01(arr):\n",
    "    low, high = 0, len(arr) - 1\n",
    "    \n",
    "    while low <= high:\n",
    "        if arr[low] == 0:\n",
    "            low += 1\n",
    "        else:\n",
    "            arr[low], arr[high] = arr[high], arr[low]\n",
    "            high -= 1\n",
    "            \n",
    "N = 3\n",
    "arr = [0, 0, 1]\n",
    "\n",
    "\n",
    "for num in arr:\n",
    "    print(num, end=' ')"
   ]
  },
  {
   "cell_type": "code",
   "execution_count": 13,
   "id": "479b5e6b",
   "metadata": {},
   "outputs": [
    {
     "name": "stdout",
     "output_type": "stream",
     "text": [
      "Element 4 appears at index 3\n"
     ]
    }
   ],
   "source": [
    "def find_element_index(arr, K):\n",
    "    for index, element in enumerate(arr):\n",
    "        if element == K:\n",
    "            return index\n",
    "    return -1\n",
    "\n",
    "N = 5\n",
    "arr = [1, 2, 3, 4, 5]\n",
    "K = 4\n",
    "\n",
    "result = find_element_index(arr,K)\n",
    "\n",
    "if result != -1:\n",
    "    print(\"Element\", K, \"appears at index\", result)\n",
    "else:\n",
    "    print(\"Element\", K, \"is not in the array\")"
   ]
  },
  {
   "cell_type": "code",
   "execution_count": 23,
   "id": "ff9e697c",
   "metadata": {},
   "outputs": [
    {
     "name": "stdout",
     "output_type": "stream",
     "text": [
      "Element 445 is not in the array\n"
     ]
    }
   ],
   "source": [
    "def find_element_index(arr, K):\n",
    "    for index, element in enumerate(arr):\n",
    "        if element == K:\n",
    "            return index\n",
    "    return - 1\n",
    "\n",
    "N= 5\n",
    "arr = [11, 22, 33, 44, 55]\n",
    "K =445\n",
    "\n",
    "result = find_element_index(arr, K)\n",
    "\n",
    "if result != -1:\n",
    "    print(\"Element\", K, \"appears at index\", result)\n",
    "else:\n",
    "    print(\"Element\", K, \"is not in the array\")"
   ]
  }
 ],
 "metadata": {
  "kernelspec": {
   "display_name": "Python 3 (ipykernel)",
   "language": "python",
   "name": "python3"
  },
  "language_info": {
   "codemirror_mode": {
    "name": "ipython",
    "version": 3
   },
   "file_extension": ".py",
   "mimetype": "text/x-python",
   "name": "python",
   "nbconvert_exporter": "python",
   "pygments_lexer": "ipython3",
   "version": "3.11.4"
  }
 },
 "nbformat": 4,
 "nbformat_minor": 5
}
